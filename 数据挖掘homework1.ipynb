{
 "cells": [
  {
   "cell_type": "markdown",
   "metadata": {},
   "source": [
    "# 数据挖掘互评作业1：数据探索性分析与数据预处理  \n",
    "\n",
    "## 学号：5720201116\n",
    "## 姓名：邢晓宇"
   ]
  },
  {
   "cell_type": "markdown",
   "metadata": {},
   "source": [
    " 本次作业选择处理的数据集为winedata与CrimeData\n",
    "# 一.WineData\n",
    "## 1.数据摘要"
   ]
  },
  {
   "cell_type": "code",
   "execution_count": 1,
   "metadata": {},
   "outputs": [],
   "source": [
    "import numpy as np\n",
    "import statsmodels.api as sm\n",
    "from matplotlib import pyplot as plt\n",
    "import pandas as pd"
   ]
  },
  {
   "cell_type": "markdown",
   "metadata": {},
   "source": [
    "# 读取数据"
   ]
  },
  {
   "cell_type": "code",
   "execution_count": 2,
   "metadata": {},
   "outputs": [],
   "source": [
    "df = pd.read_csv(\"winemag-data_first150k.csv\") "
   ]
  },
  {
   "cell_type": "markdown",
   "metadata": {},
   "source": [
    "# 数据信息\n",
    "本数据集共有11列，150930行。8列为标称属性，3列为数值属性"
   ]
  },
  {
   "cell_type": "code",
   "execution_count": 3,
   "metadata": {},
   "outputs": [
    {
     "name": "stdout",
     "output_type": "stream",
     "text": [
      "11 columns\n",
      "150930 rows\n",
      "\n",
      "object     8\n",
      "int64      2\n",
      "float64    1\n",
      "dtype: int64\n"
     ]
    }
   ],
   "source": [
    "print('%d columns' % len(df.columns))\n",
    "print('%d rows' % len(df.index))\n",
    "print()\n",
    "print(df.dtypes.value_counts())"
   ]
  },
  {
   "cell_type": "markdown",
   "metadata": {},
   "source": [
    "# 1.1标称属性摘要"
   ]
  },
  {
   "cell_type": "markdown",
   "metadata": {},
   "source": [
    "定义summary_column(col_name)函数，统计标称属性col_name中不同值出现的频数和频率，并展示出现频率最高的前10个值。"
   ]
  },
  {
   "cell_type": "code",
   "execution_count": 4,
   "metadata": {},
   "outputs": [],
   "source": [
    "def summary_column(col_name):\n",
    "    col = df[col_name].value_counts()\n",
    "    print('Colunm name:', col_name)\n",
    "    print('%d different values.' % len(col))\n",
    "    print()\n",
    "    col = df[col_name].value_counts()\n",
    "    col_df = col.to_frame()\n",
    "    col_df['frequency'] = col.apply(lambda x: x / len(df))\n",
    "    col_df.rename(columns={col_name: 'counts'}, inplace=True)\n",
    "    print(col_df.iloc[:10])\n",
    "    print('...')\n",
    "    plt.bar(np.arange(10), col.iloc[:10])\n",
    "    plt.title(col_name)\n",
    "    plt.show()"
   ]
  },
  {
   "cell_type": "markdown",
   "metadata": {},
   "source": [
    "对于“province”统计如下"
   ]
  },
  {
   "cell_type": "code",
   "execution_count": 5,
   "metadata": {},
   "outputs": [
    {
     "name": "stdout",
     "output_type": "stream",
     "text": [
      "Colunm name: province\n",
      "455 different values.\n",
      "\n",
      "                  counts  frequency\n",
      "California         44508   0.294892\n",
      "Washington          9750   0.064599\n",
      "Tuscany             7281   0.048241\n",
      "Bordeaux            6111   0.040489\n",
      "Northern Spain      4892   0.032412\n",
      "Mendoza Province    4742   0.031419\n",
      "Oregon              4589   0.030405\n",
      "Burgundy            4308   0.028543\n",
      "Piedmont            4093   0.027119\n",
      "Veneto              3962   0.026251\n",
      "...\n"
     ]
    },
    {
     "data": {
      "image/png": "[encoded data removed]",
      "text/plain": [
       "<Figure size 432x288 with 1 Axes>"
      ]
     },
     "metadata": {
      "needs_background": "light"
     },
     "output_type": "display_data"
    }
   ],
   "source": [
    "summary_column('province')"
   ]
  },
  {
   "cell_type": "markdown",
   "metadata": {},
   "source": [
    "对于“designation”统计如下"
   ]
  },
  {
   "cell_type": "code",
   "execution_count": 6,
   "metadata": {},
   "outputs": [
    {
     "name": "stdout",
     "output_type": "stream",
     "text": [
      "Colunm name: designation\n",
      "30621 different values.\n",
      "\n",
      "                counts  frequency\n",
      "Reserve           2752   0.018234\n",
      "Reserva           1810   0.011992\n",
      "Estate            1571   0.010409\n",
      "Barrel sample     1326   0.008786\n",
      "Riserva            754   0.004996\n",
      "Barrel Sample      639   0.004234\n",
      "Brut               624   0.004134\n",
      "Crianza            503   0.003333\n",
      "Estate Grown       449   0.002975\n",
      "Estate Bottled     396   0.002624\n",
      "...\n"
     ]
    },
    {
     "data": {
      "image/png": "[encoded data removed]",
      "text/plain": [
       "<Figure size 432x288 with 1 Axes>"
      ]
     },
     "metadata": {
      "needs_background": "light"
     },
     "output_type": "display_data"
    }
   ],
   "source": [
    "summary_column('designation')"
   ]
  },
  {
   "cell_type": "markdown",
   "metadata": {},
   "source": [
    "# 1.2 数值属性摘要 "
   ]
  },
  {
   "cell_type": "markdown",
   "metadata": {},
   "source": [
    "数据的第一列为id，可以忽略。对于数值属性“points”与“price”给出了五数概括。"
   ]
  },
  {
   "cell_type": "code",
   "execution_count": 7,
   "metadata": {},
   "outputs": [
    {
     "data": {
      "text/html": [
       "<div>\n",
       "<style scoped>\n",
       "    .dataframe tbody tr th:only-of-type {\n",
       "        vertical-align: middle;\n",
       "    }\n",
       "\n",
       "    .dataframe tbody tr th {\n",
       "        vertical-align: top;\n",
       "    }\n",
       "\n",
       "    .dataframe thead th {\n",
       "        text-align: right;\n",
       "    }\n",
       "</style>\n",
       "<table border=\"1\" class=\"dataframe\">\n",
       "  <thead>\n",
       "    <tr style=\"text-align: right;\">\n",
       "      <th></th>\n",
       "      <th>Unnamed: 0</th>\n",
       "      <th>points</th>\n",
       "      <th>price</th>\n",
       "    </tr>\n",
       "  </thead>\n",
       "  <tbody>\n",
       "    <tr>\n",
       "      <th>count</th>\n",
       "      <td>150930.000000</td>\n",
       "      <td>150930.000000</td>\n",
       "      <td>137235.000000</td>\n",
       "    </tr>\n",
       "    <tr>\n",
       "      <th>mean</th>\n",
       "      <td>75464.500000</td>\n",
       "      <td>87.888418</td>\n",
       "      <td>33.131482</td>\n",
       "    </tr>\n",
       "    <tr>\n",
       "      <th>std</th>\n",
       "      <td>43569.882402</td>\n",
       "      <td>3.222392</td>\n",
       "      <td>36.322536</td>\n",
       "    </tr>\n",
       "    <tr>\n",
       "      <th>min</th>\n",
       "      <td>0.000000</td>\n",
       "      <td>80.000000</td>\n",
       "      <td>4.000000</td>\n",
       "    </tr>\n",
       "    <tr>\n",
       "      <th>25%</th>\n",
       "      <td>37732.250000</td>\n",
       "      <td>86.000000</td>\n",
       "      <td>16.000000</td>\n",
       "    </tr>\n",
       "    <tr>\n",
       "      <th>50%</th>\n",
       "      <td>75464.500000</td>\n",
       "      <td>88.000000</td>\n",
       "      <td>24.000000</td>\n",
       "    </tr>\n",
       "    <tr>\n",
       "      <th>75%</th>\n",
       "      <td>113196.750000</td>\n",
       "      <td>90.000000</td>\n",
       "      <td>40.000000</td>\n",
       "    </tr>\n",
       "    <tr>\n",
       "      <th>max</th>\n",
       "      <td>150929.000000</td>\n",
       "      <td>100.000000</td>\n",
       "      <td>2300.000000</td>\n",
       "    </tr>\n",
       "  </tbody>\n",
       "</table>\n",
       "</div>"
      ],
      "text/plain": [
       "          Unnamed: 0         points          price\n",
       "count  150930.000000  150930.000000  137235.000000\n",
       "mean    75464.500000      87.888418      33.131482\n",
       "std     43569.882402       3.222392      36.322536\n",
       "min         0.000000      80.000000       4.000000\n",
       "25%     37732.250000      86.000000      16.000000\n",
       "50%     75464.500000      88.000000      24.000000\n",
       "75%    113196.750000      90.000000      40.000000\n",
       "max    150929.000000     100.000000    2300.000000"
      ]
     },
     "execution_count": 7,
     "metadata": {},
     "output_type": "execute_result"
    }
   ],
   "source": [
    "df.describe()"
   ]
  },
  {
   "cell_type": "markdown",
   "metadata": {},
   "source": [
    "每一列的缺失值如下："
   ]
  },
  {
   "cell_type": "code",
   "execution_count": 8,
   "metadata": {},
   "outputs": [
    {
     "data": {
      "text/plain": [
       "Unnamed: 0         0\n",
       "country            5\n",
       "description        0\n",
       "designation    45735\n",
       "points             0\n",
       "price          13695\n",
       "province           5\n",
       "region_1       25060\n",
       "region_2       89977\n",
       "variety            0\n",
       "winery             0\n",
       "dtype: int64"
      ]
     },
     "execution_count": 8,
     "metadata": {},
     "output_type": "execute_result"
    }
   ],
   "source": [
    "df.isna().sum()"
   ]
  },
  {
   "cell_type": "markdown",
   "metadata": {},
   "source": [
    "# 2.数据可视化"
   ]
  },
  {
   "cell_type": "markdown",
   "metadata": {},
   "source": [
    "使用直方图、盒图检查“points”与“price”的数据分布"
   ]
  },
  {
   "cell_type": "markdown",
   "metadata": {},
   "source": [
    "## 直方图函数定义\n",
    "定义函数distrib(col_name)，对指定数值属性列distrib(col_name)，展示其频率分布直方图"
   ]
  },
  {
   "cell_type": "code",
   "execution_count": 9,
   "metadata": {},
   "outputs": [],
   "source": [
    "def distrib(col_name):\n",
    "    col = df[col_name].dropna()\n",
    "    plt.hist(col, 20)\n",
    "    plt.title(col_name)\n",
    "    plt.show()"
   ]
  },
  {
   "cell_type": "markdown",
   "metadata": {},
   "source": [
    "## 盒图函数定义\n",
    "定义函数boxplot(col_name)来为指定列绘制盒图。"
   ]
  },
  {
   "cell_type": "code",
   "execution_count": 10,
   "metadata": {},
   "outputs": [],
   "source": [
    "def boxplot(col_name):\n",
    "    fig, ax = plt.subplots(figsize=(5, 6))\n",
    "    ax.set_title(col_name)\n",
    "    ax.boxplot(df[col_name].dropna())\n",
    "    plt.show()"
   ]
  },
  {
   "cell_type": "markdown",
   "metadata": {},
   "source": [
    "## \"price\"数据的直方图与盒图"
   ]
  },
  {
   "cell_type": "code",
   "execution_count": 11,
   "metadata": {},
   "outputs": [
    {
     "data": {
      "image/png": "[encoded data removed]",
      "text/plain": [
       "<Figure size 432x288 with 1 Axes>"
      ]
     },
     "metadata": {
      "needs_background": "light"
     },
     "output_type": "display_data"
    },
    {
     "data": {
      "image/png": "[encoded data removed]",
      "text/plain": [
       "<Figure size 360x432 with 1 Axes>"
      ]
     },
     "metadata": {
      "needs_background": "light"
     },
     "output_type": "display_data"
    }
   ],
   "source": [
    "distrib('price')\n",
    "boxplot('price')"
   ]
  },
  {
   "cell_type": "markdown",
   "metadata": {},
   "source": [
    "## “points”数据的直方图与盒图"
   ]
  },
  {
   "cell_type": "code",
   "execution_count": 12,
   "metadata": {},
   "outputs": [
    {
     "data": {
      "image/png": "[encoded data removed]",
      "text/plain": [
       "<Figure size 432x288 with 1 Axes>"
      ]
     },
     "metadata": {
      "needs_background": "light"
     },
     "output_type": "display_data"
    },
    {
     "data": {
      "image/png": "[encoded data removed]",
      "text/plain": [
       "<Figure size 360x432 with 1 Axes>"
      ]
     },
     "metadata": {
      "needs_background": "light"
     },
     "output_type": "display_data"
    }
   ],
   "source": [
    "distrib('points')\n",
    "boxplot('points')"
   ]
  },
  {
   "cell_type": "markdown",
   "metadata": {},
   "source": [
    "# 3. 数据缺失的处理"
   ]
  },
  {
   "cell_type": "markdown",
   "metadata": {},
   "source": [
    "分为标称数据缺失的处理与数值数据缺失的处理两部分\n",
    "## 3.1 标称数据缺失的处理\n",
    "designation列中共有150930个数据，其中45735个数据为空数据。"
   ]
  },
  {
   "cell_type": "code",
   "execution_count": 13,
   "metadata": {},
   "outputs": [
    {
     "name": "stdout",
     "output_type": "stream",
     "text": [
      "colomn: designation\n",
      "total: 150930\n",
      "nan: 45735\n"
     ]
    }
   ],
   "source": [
    "col_name = 'designation'\n",
    "col = df[col_name]\n",
    "\n",
    "print('colomn:', col_name)\n",
    "print('total:', len(col))\n",
    "print('nan:', col.isna().sum())"
   ]
  },
  {
   "cell_type": "markdown",
   "metadata": {},
   "source": [
    "定义函数`show_column(col)来展示数据。"
   ]
  },
  {
   "cell_type": "code",
   "execution_count": 14,
   "metadata": {},
   "outputs": [],
   "source": [
    "def show_column(col):\n",
    "    col = col.value_counts()\n",
    "    col_df = col.to_frame()\n",
    "    col_df['frequency'] = col.apply(lambda x: x / len(col))\n",
    "    col_df.rename(columns={'designation': 'counts'}, inplace=True)\n",
    "    print(col_df.iloc[:15])\n",
    "    print('...')\n",
    "    plt.bar(np.arange(15), col.iloc[:15])\n",
    "    plt.title(col_name)\n",
    "    plt.show()"
   ]
  },
  {
   "cell_type": "markdown",
   "metadata": {},
   "source": [
    "删除designation列中的空数据，结果统计如下。"
   ]
  },
  {
   "cell_type": "code",
   "execution_count": 15,
   "metadata": {},
   "outputs": [
    {
     "name": "stdout",
     "output_type": "stream",
     "text": [
      "                counts  frequency\n",
      "Reserve           2752   0.089873\n",
      "Reserva           1810   0.059110\n",
      "Estate            1571   0.051305\n",
      "Barrel sample     1326   0.043304\n",
      "Riserva            754   0.024624\n",
      "Barrel Sample      639   0.020868\n",
      "Brut               624   0.020378\n",
      "Crianza            503   0.016427\n",
      "Estate Grown       449   0.014663\n",
      "Estate Bottled     396   0.012932\n",
      "Dry                374   0.012214\n",
      "Old Vine           331   0.010810\n",
      "Gran Reserva       330   0.010777\n",
      "Brut Rosé          248   0.008099\n",
      "Extra Dry          244   0.007968\n",
      "...\n"
     ]
    },
    {
     "data": {
      "image/png": "[encoded data removed]",
      "text/plain": [
       "<Figure size 432x288 with 1 Axes>"
      ]
     },
     "metadata": {
      "needs_background": "light"
     },
     "output_type": "display_data"
    }
   ],
   "source": [
    "col_2 = col.dropna()\n",
    "show_column(col_2)"
   ]
  },
  {
   "cell_type": "markdown",
   "metadata": {},
   "source": [
    "将designation列中的空数据替换为出现频率最高的数据，结果统计如下。"
   ]
  },
  {
   "cell_type": "code",
   "execution_count": 17,
   "metadata": {},
   "outputs": [
    {
     "name": "stdout",
     "output_type": "stream",
     "text": [
      "                counts  frequency\n",
      "Reserve          48487   1.583456\n",
      "Reserva           1810   0.059110\n",
      "Estate            1571   0.051305\n",
      "Barrel sample     1326   0.043304\n",
      "Riserva            754   0.024624\n",
      "Barrel Sample      639   0.020868\n",
      "Brut               624   0.020378\n",
      "Crianza            503   0.016427\n",
      "Estate Grown       449   0.014663\n",
      "Estate Bottled     396   0.012932\n",
      "Dry                374   0.012214\n",
      "Old Vine           331   0.010810\n",
      "Gran Reserva       330   0.010777\n",
      "Brut Rosé          248   0.008099\n",
      "Extra Dry          244   0.007968\n",
      "...\n"
     ]
    },
    {
     "data": {
      "image/png": "[encoded data removed]",
      "text/plain": [
       "<Figure size 432x288 with 1 Axes>"
      ]
     },
     "metadata": {
      "needs_background": "light"
     },
     "output_type": "display_data"
    }
   ],
   "source": [
    "col_2 = col.fillna(col.mode()[0])\n",
    "show_column(col_2)"
   ]
  },
  {
   "cell_type": "markdown",
   "metadata": {},
   "source": [
    "## 3.2 数值数据缺失的处理"
   ]
  },
  {
   "cell_type": "markdown",
   "metadata": {},
   "source": [
    "定义函数show_plot(col)和show_describe(col)来展示数据的信息。"
   ]
  },
  {
   "cell_type": "code",
   "execution_count": 18,
   "metadata": {},
   "outputs": [],
   "source": [
    "def show_plot(col):\n",
    "    plt.hist(col, 20)\n",
    "    plt.title('bar')\n",
    "    plt.show()\n",
    "       \n",
    "def show_describe(col):\n",
    "    print(col.describe())"
   ]
  },
  {
   "cell_type": "markdown",
   "metadata": {},
   "source": [
    "price列中共有150930个数据，其中13695个数据为空数据。"
   ]
  },
  {
   "cell_type": "code",
   "execution_count": 19,
   "metadata": {},
   "outputs": [
    {
     "name": "stdout",
     "output_type": "stream",
     "text": [
      "colomn: price\n",
      "total: 150930\n",
      "nan: 13695\n"
     ]
    }
   ],
   "source": [
    "col_name = 'price'\n",
    "col = df[col_name]\n",
    "\n",
    "print('colomn:', col_name)\n",
    "print('total:', len(col))\n",
    "print('nan:', col.isna().sum())"
   ]
  },
  {
   "cell_type": "markdown",
   "metadata": {},
   "source": [
    "去除price列的空数据后，结果如下："
   ]
  },
  {
   "cell_type": "code",
   "execution_count": 20,
   "metadata": {},
   "outputs": [
    {
     "name": "stdout",
     "output_type": "stream",
     "text": [
      "count    137235.000000\n",
      "mean         33.131482\n",
      "std          36.322536\n",
      "min           4.000000\n",
      "25%          16.000000\n",
      "50%          24.000000\n",
      "75%          40.000000\n",
      "max        2300.000000\n",
      "Name: price, dtype: float64\n"
     ]
    },
    {
     "data": {
      "image/png": "[encoded data removed]",
      "text/plain": [
       "<Figure size 432x288 with 1 Axes>"
      ]
     },
     "metadata": {
      "needs_background": "light"
     },
     "output_type": "display_data"
    }
   ],
   "source": [
    "col_1 = col.dropna()\n",
    "show_describe(col_1)\n",
    "show_plot(col_1)"
   ]
  },
  {
   "cell_type": "markdown",
   "metadata": {},
   "source": [
    "将price列中的空数据用出现频率最高的数替代，结果如下："
   ]
  },
  {
   "cell_type": "code",
   "execution_count": 21,
   "metadata": {},
   "outputs": [
    {
     "name": "stdout",
     "output_type": "stream",
     "text": [
      "count    150930.000000\n",
      "mean         31.939966\n",
      "std          34.840211\n",
      "min           4.000000\n",
      "25%          16.000000\n",
      "50%          22.000000\n",
      "75%          38.000000\n",
      "max        2300.000000\n",
      "Name: price, dtype: float64\n"
     ]
    },
    {
     "data": {
      "image/png": "[encoded data removed]",
      "text/plain": [
       "<Figure size 432x288 with 1 Axes>"
      ]
     },
     "metadata": {
      "needs_background": "light"
     },
     "output_type": "display_data"
    }
   ],
   "source": [
    "col_2 = col.fillna(col.mode()[0])\n",
    "show_describe(col_2)\n",
    "show_plot(col_2)"
   ]
  },
  {
   "cell_type": "markdown",
   "metadata": {},
   "source": [
    "## 二.  CrimeData"
   ]
  },
  {
   "cell_type": "markdown",
   "metadata": {},
   "source": [
    "加载数据"
   ]
  },
  {
   "cell_type": "code",
   "execution_count": 22,
   "metadata": {},
   "outputs": [],
   "source": [
    "df=pd.read_csv('records-for-2015.csv')"
   ]
  },
  {
   "cell_type": "markdown",
   "metadata": {},
   "source": [
    "# 1.数据摘要\n",
    "## 1.1 数据信息\n",
    "数据集中共有十列，192581行，9列标称属性，1列是数值属性"
   ]
  },
  {
   "cell_type": "code",
   "execution_count": 23,
   "metadata": {},
   "outputs": [
    {
     "name": "stdout",
     "output_type": "stream",
     "text": [
      "10 columns\n",
      "192581 rows\n",
      "\n",
      "object    9\n",
      "int64     1\n",
      "dtype: int64\n"
     ]
    }
   ],
   "source": [
    "print('%d columns' % len(df.columns))\n",
    "print('%d rows' % len(df.index))\n",
    "print()\n",
    "print(df.dtypes.value_counts())"
   ]
  },
  {
   "cell_type": "markdown",
   "metadata": {},
   "source": [
    "# 缺失值统计\n",
    "统计每一列的缺失值如下："
   ]
  },
  {
   "cell_type": "code",
   "execution_count": 24,
   "metadata": {},
   "outputs": [
    {
     "data": {
      "text/plain": [
       "Agency                          0\n",
       "Create Time                     0\n",
       "Location                        0\n",
       "Area Id                         0\n",
       "Beat                         1325\n",
       "Priority                        0\n",
       "Incident Type Id                0\n",
       "Incident Type Description     243\n",
       "Event Number                    0\n",
       "Closed Time                     0\n",
       "dtype: int64"
      ]
     },
     "execution_count": 24,
     "metadata": {},
     "output_type": "execute_result"
    }
   ],
   "source": [
    "df.isna().sum()"
   ]
  },
  {
   "cell_type": "markdown",
   "metadata": {},
   "source": [
    "# 1.2数值数据摘要\n",
    "本数据集只有一列数值数据，因此对于“priority”进行五数概括。"
   ]
  },
  {
   "cell_type": "code",
   "execution_count": 25,
   "metadata": {},
   "outputs": [
    {
     "data": {
      "text/html": [
       "<div>\n",
       "<style scoped>\n",
       "    .dataframe tbody tr th:only-of-type {\n",
       "        vertical-align: middle;\n",
       "    }\n",
       "\n",
       "    .dataframe tbody tr th {\n",
       "        vertical-align: top;\n",
       "    }\n",
       "\n",
       "    .dataframe thead th {\n",
       "        text-align: right;\n",
       "    }\n",
       "</style>\n",
       "<table border=\"1\" class=\"dataframe\">\n",
       "  <thead>\n",
       "    <tr style=\"text-align: right;\">\n",
       "      <th></th>\n",
       "      <th>Priority</th>\n",
       "    </tr>\n",
       "  </thead>\n",
       "  <tbody>\n",
       "    <tr>\n",
       "      <th>count</th>\n",
       "      <td>192581.000000</td>\n",
       "    </tr>\n",
       "    <tr>\n",
       "      <th>mean</th>\n",
       "      <td>1.779729</td>\n",
       "    </tr>\n",
       "    <tr>\n",
       "      <th>std</th>\n",
       "      <td>0.414443</td>\n",
       "    </tr>\n",
       "    <tr>\n",
       "      <th>min</th>\n",
       "      <td>0.000000</td>\n",
       "    </tr>\n",
       "    <tr>\n",
       "      <th>25%</th>\n",
       "      <td>2.000000</td>\n",
       "    </tr>\n",
       "    <tr>\n",
       "      <th>50%</th>\n",
       "      <td>2.000000</td>\n",
       "    </tr>\n",
       "    <tr>\n",
       "      <th>75%</th>\n",
       "      <td>2.000000</td>\n",
       "    </tr>\n",
       "    <tr>\n",
       "      <th>max</th>\n",
       "      <td>2.000000</td>\n",
       "    </tr>\n",
       "  </tbody>\n",
       "</table>\n",
       "</div>"
      ],
      "text/plain": [
       "            Priority\n",
       "count  192581.000000\n",
       "mean        1.779729\n",
       "std         0.414443\n",
       "min         0.000000\n",
       "25%         2.000000\n",
       "50%         2.000000\n",
       "75%         2.000000\n",
       "max         2.000000"
      ]
     },
     "execution_count": 25,
     "metadata": {},
     "output_type": "execute_result"
    }
   ],
   "source": [
    "df.describe()"
   ]
  },
  {
   "cell_type": "markdown",
   "metadata": {},
   "source": [
    "## 1.3 标称数据摘要\n",
    "定义summary_column(col_name)函数，统计标称属性col_name中不同值出现的频数和频率，并以直方图的形式展示出现频率最高的前10个值。"
   ]
  },
  {
   "cell_type": "code",
   "execution_count": 26,
   "metadata": {},
   "outputs": [],
   "source": [
    "def summary_column(col_name):\n",
    "    col = df[col_name].value_counts()\n",
    "    print('Colunm name:', col_name)\n",
    "    print('%d different values.' % len(col))\n",
    "    print()\n",
    "    col = df[col_name].value_counts()\n",
    "    col_df = col.to_frame()\n",
    "    col_df['frequency'] = col.apply(lambda x: x / len(col))\n",
    "    col_df.rename(columns={col_name:'counts'}, inplace=True)\n",
    "    print(col_df.iloc[:10])\n",
    "    print('...')\n",
    "    plt.bar(np.arange(10),col.iloc[:10])\n",
    "    plt.title(col_name)\n",
    "    plt.show()"
   ]
  },
  {
   "cell_type": "markdown",
   "metadata": {},
   "source": [
    "统计Location列如下。"
   ]
  },
  {
   "cell_type": "code",
   "execution_count": 27,
   "metadata": {},
   "outputs": [
    {
     "name": "stdout",
     "output_type": "stream",
     "text": [
      "Colunm name: Location\n",
      "36515 different values.\n",
      "\n",
      "                            counts  frequency\n",
      " INTERNATIONAL BLVD           3695   0.101191\n",
      " AV&INTERNATIONAL BLVD        3106   0.085061\n",
      " MACARTHUR BLVD               3105   0.085034\n",
      " BROADWAY                     2407   0.065918\n",
      " FOOTHILL BLVD                1753   0.048008\n",
      " 7TH ST                       1569   0.042969\n",
      " TELEGRAPH AV                 1507   0.041271\n",
      " FRUITVALE AV                 1354   0.037081\n",
      " AV&MACARTHUR BLVD            1336   0.036588\n",
      " ST&BROADWAY                  1264   0.034616\n",
      "...\n"
     ]
    },
    {
     "data": {
      "image/png": "[encoded data removed]",
      "text/plain": [
       "<Figure size 432x288 with 1 Axes>"
      ]
     },
     "metadata": {
      "needs_background": "light"
     },
     "output_type": "display_data"
    }
   ],
   "source": [
    "summary_column('Location')"
   ]
  },
  {
   "cell_type": "markdown",
   "metadata": {},
   "source": [
    "统计Beat列如下。"
   ]
  },
  {
   "cell_type": "code",
   "execution_count": 28,
   "metadata": {},
   "outputs": [
    {
     "name": "stdout",
     "output_type": "stream",
     "text": [
      "Colunm name: Beat\n",
      "58 different values.\n",
      "\n",
      "     counts   frequency\n",
      "04X    8048  138.758621\n",
      "08X    6874  118.517241\n",
      "30Y    5690   98.103448\n",
      "19X    5564   95.931034\n",
      "30X    5542   95.551724\n",
      "23X    5492   94.689655\n",
      "26Y    5449   93.948276\n",
      "34X    5172   89.172414\n",
      "06X    5056   87.172414\n",
      "03X    4983   85.913793\n",
      "...\n"
     ]
    },
    {
     "data": {
      "image/png": "[encoded data removed]",
      "text/plain": [
       "<Figure size 432x288 with 1 Axes>"
      ]
     },
     "metadata": {
      "needs_background": "light"
     },
     "output_type": "display_data"
    }
   ],
   "source": [
    "summary_column('Beat')"
   ]
  },
  {
   "cell_type": "markdown",
   "metadata": {},
   "source": [
    "统计Incident Type Description列如下。"
   ]
  },
  {
   "cell_type": "code",
   "execution_count": 29,
   "metadata": {},
   "outputs": [
    {
     "name": "stdout",
     "output_type": "stream",
     "text": [
      "Colunm name: Incident Type Description\n",
      "261 different values.\n",
      "\n",
      "                      counts  frequency\n",
      "ALARM-RINGER           18181  69.659004\n",
      "SECURITY CHECK         14809  56.739464\n",
      "STOLEN VEHICLE          8899  34.095785\n",
      "911 HANG-UP             8529  32.678161\n",
      "MENTALLY ILL            8465  32.432950\n",
      "DISTURBING THE PEACE    8154  31.241379\n",
      "BATTERY                 5960  22.835249\n",
      "415 UNKNOWN             5607  21.482759\n",
      "SUSPICIOUS PERSON       5211  19.965517\n",
      "SUSPICIOUS VEHICLE      4476  17.149425\n",
      "...\n"
     ]
    },
    {
     "data": {
      "image/png": "[encoded data removed]",
      "text/plain": [
       "<Figure size 432x288 with 1 Axes>"
      ]
     },
     "metadata": {
      "needs_background": "light"
     },
     "output_type": "display_data"
    }
   ],
   "source": [
    "summary_column('Incident Type Description')"
   ]
  },
  {
   "cell_type": "markdown",
   "metadata": {},
   "source": [
    "# 2.处理缺失标称数据"
   ]
  },
  {
   "cell_type": "markdown",
   "metadata": {},
   "source": [
    "定义函数show_column(col)来展示数据"
   ]
  },
  {
   "cell_type": "code",
   "execution_count": 30,
   "metadata": {},
   "outputs": [],
   "source": [
    "def show_column(col):\n",
    "    col = col.value_counts()\n",
    "    col_df = col.to_frame()\n",
    "    col_df['frequency'] = col.apply(lambda x: x / len(col))\n",
    "    print(col_df.iloc[:15])\n",
    "    print('...')\n",
    "    plt.bar(np.arange(15), col.iloc[:15])\n",
    "    plt.title(col_name)\n",
    "    plt.show()"
   ]
  },
  {
   "cell_type": "markdown",
   "metadata": {},
   "source": [
    "Beat列中共有192581个数据，其中1325个数据为空数据。"
   ]
  },
  {
   "cell_type": "code",
   "execution_count": 31,
   "metadata": {},
   "outputs": [
    {
     "name": "stdout",
     "output_type": "stream",
     "text": [
      "colomn: Beat\n",
      "total: 192581\n",
      "nan: 1325\n"
     ]
    }
   ],
   "source": [
    "col_name = 'Beat'\n",
    "col = df[col_name]\n",
    "\n",
    "print('colomn:', col_name)\n",
    "print('total:', len(col))\n",
    "print('nan:', col.isna().sum())"
   ]
  },
  {
   "cell_type": "markdown",
   "metadata": {},
   "source": [
    "删除Beat列中的空数据，结果统计如下。"
   ]
  },
  {
   "cell_type": "code",
   "execution_count": 33,
   "metadata": {},
   "outputs": [
    {
     "name": "stdout",
     "output_type": "stream",
     "text": [
      "     Beat   frequency\n",
      "04X  8048  138.758621\n",
      "08X  6874  118.517241\n",
      "30Y  5690   98.103448\n",
      "19X  5564   95.931034\n",
      "30X  5542   95.551724\n",
      "23X  5492   94.689655\n",
      "26Y  5449   93.948276\n",
      "34X  5172   89.172414\n",
      "06X  5056   87.172414\n",
      "03X  4983   85.913793\n",
      "07X  4910   84.655172\n",
      "29X  4599   79.293103\n",
      "31Y  4556   78.551724\n",
      "25X  4409   76.017241\n",
      "35X  4287   73.913793\n",
      "...\n"
     ]
    },
    {
     "data": {
      "image/png": "[encoded data removed]",
      "text/plain": [
       "<Figure size 432x288 with 1 Axes>"
      ]
     },
     "metadata": {
      "needs_background": "light"
     },
     "output_type": "display_data"
    }
   ],
   "source": [
    "col_1=col.dropna()\n",
    "show_column(col_1)"
   ]
  },
  {
   "cell_type": "markdown",
   "metadata": {},
   "source": [
    "Incident Type Description列中共有192581个数据，其中243个数据为空数据。"
   ]
  },
  {
   "cell_type": "code",
   "execution_count": 34,
   "metadata": {},
   "outputs": [
    {
     "name": "stdout",
     "output_type": "stream",
     "text": [
      "colomn: Incident Type Description\n",
      "total: 192581\n",
      "nan: 243\n"
     ]
    }
   ],
   "source": [
    "col_name = 'Incident Type Description'\n",
    "col = df[col_name]\n",
    "\n",
    "print('colomn:', col_name)\n",
    "print('total:', len(col))\n",
    "print('nan:', col.isna().sum())"
   ]
  },
  {
   "cell_type": "markdown",
   "metadata": {},
   "source": [
    "删除designation列中的空数据，结果统计如下。"
   ]
  },
  {
   "cell_type": "code",
   "execution_count": 35,
   "metadata": {},
   "outputs": [
    {
     "name": "stdout",
     "output_type": "stream",
     "text": [
      "                      Incident Type Description  frequency\n",
      "ALARM-RINGER                              18181  69.659004\n",
      "SECURITY CHECK                            14809  56.739464\n",
      "STOLEN VEHICLE                             8899  34.095785\n",
      "911 HANG-UP                                8529  32.678161\n",
      "MENTALLY ILL                               8465  32.432950\n",
      "DISTURBING THE PEACE                       8154  31.241379\n",
      "BATTERY                                    5960  22.835249\n",
      "415 UNKNOWN                                5607  21.482759\n",
      "SUSPICIOUS PERSON                          5211  19.965517\n",
      "SUSPICIOUS VEHICLE                         4476  17.149425\n",
      "BATTERY ON CO-HABITA                       4295  16.455939\n",
      "415 FAMILY                                 4122  15.793103\n",
      "HAZARDOUS SITUATION/                       3813  14.609195\n",
      "WELFARE CHECK -- CHE                       3591  13.758621\n",
      "415 GUNSHOTS                               3388  12.980843\n",
      "...\n"
     ]
    },
    {
     "data": {
      "image/png": "[encoded data removed]",
      "text/plain": [
       "<Figure size 432x288 with 1 Axes>"
      ]
     },
     "metadata": {
      "needs_background": "light"
     },
     "output_type": "display_data"
    }
   ],
   "source": [
    "col_1 = col.dropna()\n",
    "show_column(col_1)"
   ]
  },
  {
   "cell_type": "code",
   "execution_count": null,
   "metadata": {},
   "outputs": [],
   "source": []
  },
  {
   "cell_type": "code",
   "execution_count": null,
   "metadata": {},
   "outputs": [],
   "source": []
  }
 ],
 "metadata": {
  "kernelspec": {
   "display_name": "Python 3",
   "language": "python",
   "name": "python3"
  },
  "language_info": {
   "codemirror_mode": {
    "name": "ipython",
    "version": 3
   },
   "file_extension": ".py",
   "mimetype": "text/x-python",
   "name": "python",
   "nbconvert_exporter": "python",
   "pygments_lexer": "ipython3",
   "version": "3.8.5"
  }
 },
 "nbformat": 4,
 "nbformat_minor": 4
}
